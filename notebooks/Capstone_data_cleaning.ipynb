{
 "cells": [
  {
   "cell_type": "code",
   "execution_count": null,
   "id": "828bccfa",
   "metadata": {},
   "outputs": [],
   "source": [
    "# In this notebook I put the game data into a dataframe in which each row is an indiviual game. I use regex to \n",
    "# place the data in understandable columns and then clean and filter the data to get the games I want."
   ]
  },
  {
   "cell_type": "code",
   "execution_count": 1,
   "id": "1e26c4ee",
   "metadata": {},
   "outputs": [],
   "source": [
    "import pandas as pd\n",
    "import re"
   ]
  },
  {
   "cell_type": "code",
   "execution_count": 2,
   "id": "5508e4a7",
   "metadata": {
    "scrolled": false
   },
   "outputs": [],
   "source": [
    "# Bringing in the ten csvs created during data gathering, and combining these csvs into a single csv.\n",
    "\n",
    "cs_1 = pd.read_csv('../data/Caissabase1.csv')\n",
    "cs_2 = pd.read_csv('../data/Caissabase2.csv')\n",
    "cs_3 = pd.read_csv('../data/Caissabase3.csv')\n",
    "cs_4 = pd.read_csv('../data/Caissabase4.csv')\n",
    "cs_5 = pd.read_csv('../data/Caissabase5.csv')\n",
    "cs_6 = pd.read_csv('../data/Caissabase6.csv')\n",
    "cs_7 = pd.read_csv('../data/Caissabase7.csv')\n",
    "cs_8 = pd.read_csv('../data/Caissabase8.csv')\n",
    "cs_9 = pd.read_csv('../data/Caissabase9.csv')\n",
    "cs_10 = pd.read_csv('../data/Caissabase10.csv')\n",
    "\n",
    "caissabase = pd.concat([cs_1,cs_2,cs_3,cs_4,cs_5,cs_6,cs_7,cs_8,cs_9,cs_10])"
   ]
  },
  {
   "cell_type": "code",
   "execution_count": 3,
   "id": "b77b8915",
   "metadata": {},
   "outputs": [],
   "source": [
    "# Cleaning up initial dataframe.\n",
    "\n",
    "caissabase = caissabase.drop(caissabase.columns[0], axis = 1)\n",
    "caissabase.columns = ['games']"
   ]
  },
  {
   "cell_type": "code",
   "execution_count": 4,
   "id": "c8b2c05f",
   "metadata": {},
   "outputs": [],
   "source": [
    "# At this point, all the data for a given game is crammed together in one column. Here, I pull out all the 'event' data and\n",
    "# put it in an event column. There is likely a way to combine the two regex statements into one, but I left it as is to \n",
    "# avoid taking too much time.\n",
    "\n",
    "caissabase['event'] = caissabase['games'].str.extract('(\\[Event[^\\]]*\\])')\n",
    "caissabase['event'] = caissabase['event'].str.extract('\"([^#]*)\"')"
   ]
  },
  {
   "cell_type": "code",
   "execution_count": 5,
   "id": "8054a78a",
   "metadata": {},
   "outputs": [],
   "source": [
    "# Creating white elo column\n",
    "\n",
    "caissabase['white_elo'] = caissabase['games'].str.extract('(\\[WhiteElo[^\\]]*\\])')\n",
    "caissabase['white_elo'] = caissabase['white_elo'].str.extract('\"([^#]*)\"')"
   ]
  },
  {
   "cell_type": "code",
   "execution_count": 6,
   "id": "24a32110",
   "metadata": {},
   "outputs": [],
   "source": [
    "# Creating black elo column\n",
    "\n",
    "caissabase['black_elo'] = caissabase['games'].str.extract('(\\[BlackElo[^\\]]*\\])')\n",
    "caissabase['black_elo'] = caissabase['black_elo'].str.extract('\"([^#]*)\"')"
   ]
  },
  {
   "cell_type": "code",
   "execution_count": 7,
   "id": "6b6deb34",
   "metadata": {},
   "outputs": [],
   "source": [
    "# Dropping games with NaNs for either white or black elo. I need games with known player strengths.\n",
    "\n",
    "caissabase = caissabase.dropna(axis = 0, how = 'any', subset = ['white_elo','black_elo'])"
   ]
  },
  {
   "cell_type": "code",
   "execution_count": 8,
   "id": "48b94343",
   "metadata": {},
   "outputs": [],
   "source": [
    "caissabase = caissabase.astype({'white_elo':'int', 'black_elo':'int'})"
   ]
  },
  {
   "cell_type": "code",
   "execution_count": 9,
   "id": "bc9ec491",
   "metadata": {},
   "outputs": [],
   "source": [
    "# Dropping games with a player below 2000 elo- I want games between players of a high level of skill. I also drop games with\n",
    "# player elos above 2800- the highest FIDE elo ever in classical chess is 2882, anything much higher than that can be thrown\n",
    "# out.\n",
    "\n",
    "caissabase = caissabase[caissabase['white_elo'].between(2000, 2890, 'both')]\n",
    "caissabase = caissabase[caissabase['black_elo'].between(2000, 2890, 'both')]"
   ]
  },
  {
   "cell_type": "code",
   "execution_count": 10,
   "id": "06330bc5",
   "metadata": {},
   "outputs": [],
   "source": [
    "# I only want classical games- I don't want data from rapid, blitz, or bullet time controls, which are much faster and allow\n",
    "# for bad openings to be played without being punished. I want long time control games only, and openings that are played in\n",
    "# that environment. Unfortunately, there is no easy way to know what time control a game was played in and I had to make do\n",
    "# by guessing with the event names. I dropped games with event names containing the words 'rapid', 'blitz', and 'bullet' and\n",
    "# some abbreviations of those as well as any event containing the word 'speed' under the assumption that event was played at\n",
    "# a faster time control. I also dropped games in the events 'Titled arena' and 'Titled Tuesday', which are online events at\n",
    "# faster time controls. \n",
    "#\n",
    "# I also only want serious games, so I dropped events containing 'exhibition' and 'simul'. An exhibition game isn't usually\n",
    "# serious and simul indicates a simultaneous event in which a single player plays many players at the same time- not a\n",
    "# standard (or likely serious) game. \n",
    "# \n",
    "# Finally, I only want games in standard 'normal' chess. There are some variants of chess, one of these being Fischer Random\n",
    "# Chess, also called Chess960, which randomizes the position of the pieces at the start of the game. These games have \n",
    "# opening moves not even possible in normal chess and must be dropped. Thus, I dropped any games with events containing '960'\n",
    "# or 'random'.\n",
    "\n",
    "caissabase = caissabase[~caissabase['event'].str.contains('rapid| rpd |blitz|bltz|bullet|exhibition| exh |titled arena|titled tuesday|titled tues|speed|simul|960|random', case = False, na = False)]"
   ]
  },
  {
   "cell_type": "code",
   "execution_count": null,
   "id": "00e1e5b1",
   "metadata": {},
   "outputs": [],
   "source": [
    "# I chose to create columns for elo and event so I could drop a significant number of rows at the start- I was finding it \n",
    "# difficult to create other columns without first filtering out a significant number of games because the dataframe was \n",
    "# simply so large.\n",
    "#\n",
    "# Next I create columns for result, site, date, white player, white fide id, white title, black player, black fide id, black\n",
    "# title, eco, event date, opening, and variation. I end up not using most of this data in my analysis."
   ]
  },
  {
   "cell_type": "code",
   "execution_count": 11,
   "id": "9a4568cc",
   "metadata": {},
   "outputs": [],
   "source": [
    "caissabase['result'] = caissabase['games'].str.extract('(\\[Result[^\\]]*\\])')\n",
    "caissabase['result'] = caissabase['result'].str.extract('\"([^#]*)\"')"
   ]
  },
  {
   "cell_type": "code",
   "execution_count": 12,
   "id": "461fe571",
   "metadata": {},
   "outputs": [],
   "source": [
    "caissabase['site'] = caissabase['games'].str.extract('(\\[Site[^\\]]*\\])')\n",
    "caissabase['site'] = caissabase['site'].str.extract('\"([^#]*)\"')"
   ]
  },
  {
   "cell_type": "code",
   "execution_count": 13,
   "id": "a0b27b9e",
   "metadata": {},
   "outputs": [],
   "source": [
    "caissabase['date'] = caissabase['games'].str.extract('(\\[Date[^\\]]*\\])')\n",
    "caissabase['date'] = caissabase['date'].str.extract('\"([^#]*)\"')"
   ]
  },
  {
   "cell_type": "code",
   "execution_count": 14,
   "id": "40c4f504",
   "metadata": {},
   "outputs": [],
   "source": [
    "caissabase['white'] = caissabase['games'].str.extract('(\\[White[^\\]]*\\])')\n",
    "caissabase['white'] = caissabase['white'].str.extract('\"([^#]*)\"')"
   ]
  },
  {
   "cell_type": "code",
   "execution_count": 15,
   "id": "ec334296",
   "metadata": {},
   "outputs": [],
   "source": [
    "caissabase['white_fide_id'] = caissabase['games'].str.extract('(\\[WhiteFideId[^\\]]*\\])')\n",
    "caissabase['white_fide_id'] = caissabase['white_fide_id'].str.extract('\"([^#]*)\"')"
   ]
  },
  {
   "cell_type": "code",
   "execution_count": 16,
   "id": "f7941781",
   "metadata": {},
   "outputs": [],
   "source": [
    "caissabase['white_title'] = caissabase['games'].str.extract('(\\[WhiteTitle[^\\]]*\\])')\n",
    "caissabase['white_title'] = caissabase['white_title'].str.extract('\"([^#]*)\"')"
   ]
  },
  {
   "cell_type": "code",
   "execution_count": 17,
   "id": "599d6f5f",
   "metadata": {},
   "outputs": [],
   "source": [
    "caissabase['black'] = caissabase['games'].str.extract('(\\[Black[^\\]]*\\])')\n",
    "caissabase['black'] = caissabase['black'].str.extract('\"([^#]*)\"')"
   ]
  },
  {
   "cell_type": "code",
   "execution_count": 18,
   "id": "753c83ac",
   "metadata": {},
   "outputs": [],
   "source": [
    "caissabase['black_fide_id'] = caissabase['games'].str.extract('(\\[BlackFideId[^\\]]*\\])')\n",
    "caissabase['black_fide_id'] = caissabase['black_fide_id'].str.extract('\"([^#]*)\"')"
   ]
  },
  {
   "cell_type": "code",
   "execution_count": 19,
   "id": "24fbac5f",
   "metadata": {},
   "outputs": [],
   "source": [
    "caissabase['black_title'] = caissabase['games'].str.extract('(\\[BlackTitle[^\\]]*\\])')\n",
    "caissabase['black_title'] = caissabase['black_title'].str.extract('\"([^#]*)\"')"
   ]
  },
  {
   "cell_type": "code",
   "execution_count": 20,
   "id": "352f252f",
   "metadata": {},
   "outputs": [],
   "source": [
    "caissabase['eco'] = caissabase['games'].str.extract('(\\[ECO[^\\]]*\\])')\n",
    "caissabase['eco'] = caissabase['eco'].str.extract('\"([^#]*)\"')"
   ]
  },
  {
   "cell_type": "code",
   "execution_count": 21,
   "id": "cdc22c4e",
   "metadata": {},
   "outputs": [],
   "source": [
    "caissabase['event_date'] = caissabase['games'].str.extract('(\\[EventDate[^\\]]*\\])')\n",
    "caissabase['event_date'] = caissabase['event_date'].str.extract('\"([^#]*)\"')"
   ]
  },
  {
   "cell_type": "code",
   "execution_count": 22,
   "id": "caadfbc8",
   "metadata": {},
   "outputs": [],
   "source": [
    "caissabase['opening'] = caissabase['games'].str.extract('(\\[Opening[^\\]]*\\])')\n",
    "caissabase['opening'] = caissabase['opening'].str.extract('\"([^#]*)\"')"
   ]
  },
  {
   "cell_type": "code",
   "execution_count": 23,
   "id": "482dc576",
   "metadata": {},
   "outputs": [],
   "source": [
    "caissabase['variation'] = caissabase['games'].str.extract('(\\[Variation[^\\]]*\\])')\n",
    "caissabase['variation'] = caissabase['variation'].str.extract('\"([^#]*)\"')"
   ]
  },
  {
   "cell_type": "code",
   "execution_count": 24,
   "id": "c3d8235d",
   "metadata": {},
   "outputs": [],
   "source": [
    "# Pulling out the move data. This is a bit tricky.\n",
    "\n",
    "caissabase['moves'] = caissabase['games'].str.extract('(\\\\n\\\\n[^%]*)')"
   ]
  },
  {
   "cell_type": "code",
   "execution_count": 25,
   "id": "06d32c42",
   "metadata": {},
   "outputs": [],
   "source": [
    "caissabase = caissabase.drop(['games'], axis = 1)"
   ]
  },
  {
   "cell_type": "code",
   "execution_count": 26,
   "id": "4b51a5ae",
   "metadata": {},
   "outputs": [],
   "source": [
    "# Often the list of moves contains the result of the game at the end. However, the result data is already \n",
    "# recorded separately so I can drop this information.\n",
    "#\n",
    "# I create a column containing '@' and then concatenated that @ to the end of list of moves. The @ symbol signals the game\n",
    "# is over. (There's definitely a way to do this without creating a new column, but I couldn't figure it out in a reasonable\n",
    "# amount of time so this is my unconventional approach). I used @ because chess game notation doesn't use the @ symbol.\n",
    "\n",
    "caissabase['moves'] = caissabase['moves'].str.replace(r'1-0', r'')\n",
    "caissabase['moves'] = caissabase['moves'].str.replace(r'0-1', r'')\n",
    "caissabase['moves'] = caissabase['moves'].str.replace(r'1/2-1/2', r'')\n",
    "caissabase['@'] = '@'\n",
    "caissabase['moves'] = caissabase['moves'] + caissabase['@']"
   ]
  },
  {
   "cell_type": "code",
   "execution_count": 27,
   "id": "dee2a44f",
   "metadata": {},
   "outputs": [],
   "source": [
    "caissabase = caissabase.drop(['@'], axis = 1)"
   ]
  },
  {
   "cell_type": "code",
   "execution_count": 28,
   "id": "4b1c9ef7",
   "metadata": {},
   "outputs": [
    {
     "name": "stderr",
     "output_type": "stream",
     "text": [
      "<ipython-input-28-336d59ff31a9>:6: FutureWarning: The default value of regex will change from True to False in a future version.\n",
      "  caissabase[x] = caissabase[x].str.replace(x + '\\.', '')\n"
     ]
    }
   ],
   "source": [
    "# Here I use a for loop to take the long string of moves in the 'moves' column and separate it out into individual moves.\n",
    "# The loop starts at 1. It creates an x value '1' and a y value ' 2'. These values will be useful for the loop to know where\n",
    "# the first move starts in the move sequence and where the second move starts in the move sequence. Let's look at an example\n",
    "# list of moves in a game:\n",
    "# \n",
    "#      1. e4 c5 2. Nf3 e6 3. d4 cxd4 4. Nxd4 Nf6 5. Nc3 d6 6. g3 Nc6 7. Bg2 Bd7 8. O-O a6....\n",
    "# \n",
    "# The for loop looks for a '1.'. When it finds it, it begins pulling the string and stops when it reaches either a '.' or a \n",
    "# '@'. I have it stop at the next '.' because chess game notation only uses '.' after a move number, like '2.' or '45.' so I\n",
    "# always know a '.' signals the next move. I also tell it to stop pulling data if it finds a '@'- remember, I concatenated\n",
    "# '@' symbols at the end of every game notation, so if it sees an '@' the game is over, so it stops pulling the string  \n",
    "# (although looking back on this, I'm not ever sure I need to the @ thing at all- that's what I get for trying to be clever).\n",
    "# In the example above, regex pulls the following string:\n",
    "#\n",
    "# '1. e4 c5 2'\n",
    "#\n",
    "# This is mostly what I want, but I really care about the moves and not the move numbers- at this point I know this is data\n",
    "# on move 1. So, I replace the y value of ' 2' with '' and the x value of '1' and a '.' with ''. After  all that, this is \n",
    "# what I get:\n",
    "# \n",
    "# ' e4 c5'.\n",
    "# \n",
    "# This is what I want- just the moves on move 1! The for loop creates a column named x (in this case, '1') and moves on. The\n",
    "# for loop will continue to x = 2 and do the same with move 2, and so on. I stop on move 20 because I'm trying to analyze \n",
    "# the opening and I don't think going deeper than move 20 is nesseccary.\n",
    "\n",
    "for x in range (1,21):\n",
    "    y = ' ' + str(x + 1)\n",
    "    x = str(x)\n",
    "    caissabase[x] = caissabase['moves'].str.extract('('+x+'\\.[^@.]*)')\n",
    "    caissabase[x] = caissabase[x].str.replace(y, '')\n",
    "    caissabase[x] = caissabase[x].str.replace(x + '\\.', '')"
   ]
  },
  {
   "cell_type": "code",
   "execution_count": 29,
   "id": "138ac7bf",
   "metadata": {},
   "outputs": [],
   "source": [
    "caissabase = caissabase.drop(['moves'], axis = 1)"
   ]
  },
  {
   "cell_type": "code",
   "execution_count": 30,
   "id": "6c3a5f76",
   "metadata": {},
   "outputs": [],
   "source": [
    "# I have the move data seperated by move, but I also want to seperate each move into white's move and black's move. Let's\n",
    "# use the example from our previous step:\n",
    "#\n",
    "# ' e4 c5'\n",
    "#\n",
    "# This for loop strips the string to get 'e4 c5' and splits the string based on the space, to get 'e4' and 'c5'. These two\n",
    "# moves are then saved to seperate columns '1w' and '1b' (for move one white and move one black).\n",
    "\n",
    "for x in range (1,21):\n",
    "    x = str(x)\n",
    "    w = x + 'w'\n",
    "    b = x + 'b'\n",
    "    caissabase[x] = caissabase[x].str.strip()\n",
    "    caissabase[[w, b]] = caissabase[x].str.split(' ', n = 1, expand = True)"
   ]
  },
  {
   "cell_type": "code",
   "execution_count": 31,
   "id": "9ef44c73",
   "metadata": {},
   "outputs": [],
   "source": [
    "# With two half moves columns created from each move column, we don't need the move columns anymore.\n",
    "\n",
    "caissabase = caissabase.drop(['1','2','3','4','5','6','7','8','9','10','11','12','13','14','15','16','17','18','19','20'], axis = 1)"
   ]
  },
  {
   "cell_type": "code",
   "execution_count": 32,
   "id": "2f4cbe75",
   "metadata": {},
   "outputs": [],
   "source": [
    "caissabase['date'] = pd.to_datetime(caissabase['date'], errors = 'coerce')"
   ]
  },
  {
   "cell_type": "code",
   "execution_count": 33,
   "id": "f812d889",
   "metadata": {},
   "outputs": [],
   "source": [
    "# As time has gone on, opening theory has progressed and players have generally become stronger. Because of this, we are\n",
    "# throwing out any games before the year 2000.\n",
    "\n",
    "caissabase = caissabase.loc[caissabase['date']>='2000-01-01']"
   ]
  },
  {
   "cell_type": "code",
   "execution_count": 34,
   "id": "ba017931",
   "metadata": {},
   "outputs": [],
   "source": [
    "# I drop any games with NaNs within the first 4 moves. If a game ends, any move columns after the game ends will be NaN.\n",
    "# This drops games that ended really quickly and can skew the results. For example, I don't want the game 1.e4 1-0 to be in\n",
    "# my database- there are a variety of reasons a game could end without black even moving, perhaps for example the black \n",
    "# player forfeited. Whatever the case, this isn't a 'real' win for the opening 1.e4 and I don't want it in my data.\n",
    "\n",
    "caissabase = caissabase.dropna(axis = 0, how = 'any', subset = ['1w','1b','2w','2b','3w','3b','4w','4b'])"
   ]
  },
  {
   "cell_type": "code",
   "execution_count": 35,
   "id": "7061b620",
   "metadata": {},
   "outputs": [],
   "source": [
    "# There were some first moves by white and black that are actually impossible to be played- these are dropped.\n",
    "\n",
    "caissabase = caissabase[caissabase['1w'].isin(['Bh3','Nd6+','f5','Nf5']) == False]\n",
    "caissabase = caissabase[caissabase['1b'].isin(['{ Note this is not a standard game of chess as castling was not\\nallowed } 1','f62']) == False]"
   ]
  },
  {
   "cell_type": "code",
   "execution_count": 37,
   "id": "63216191",
   "metadata": {},
   "outputs": [],
   "source": [
    "# Some games have a '*' for their result- I think this means the game never finished. These games are dropped.\n",
    "\n",
    "caissabase = caissabase.loc[caissabase['result'] != '*']"
   ]
  },
  {
   "cell_type": "code",
   "execution_count": 38,
   "id": "7793081d",
   "metadata": {},
   "outputs": [],
   "source": [
    "caissabase = caissabase.reset_index(drop =True)"
   ]
  },
  {
   "cell_type": "code",
   "execution_count": 39,
   "id": "0753ac10",
   "metadata": {},
   "outputs": [],
   "source": [
    "# I save the cleaned and filtered database back to a csv.\n",
    "\n",
    "caissabase.to_csv('../data/caissabase_df.csv')"
   ]
  }
 ],
 "metadata": {
  "kernelspec": {
   "display_name": "Python 3",
   "language": "python",
   "name": "python3"
  },
  "language_info": {
   "codemirror_mode": {
    "name": "ipython",
    "version": 3
   },
   "file_extension": ".py",
   "mimetype": "text/x-python",
   "name": "python",
   "nbconvert_exporter": "python",
   "pygments_lexer": "ipython3",
   "version": "3.8.8"
  }
 },
 "nbformat": 4,
 "nbformat_minor": 5
}
