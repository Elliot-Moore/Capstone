{
 "cells": [
  {
   "cell_type": "code",
   "execution_count": 1,
   "id": "1e26c4ee",
   "metadata": {},
   "outputs": [],
   "source": [
    "import pandas as pd\n",
    "import re"
   ]
  },
  {
   "cell_type": "code",
   "execution_count": 2,
   "id": "5508e4a7",
   "metadata": {
    "scrolled": false
   },
   "outputs": [],
   "source": [
    "# Bringing in the ten csvs created during data gathering, and combining these csvs into a single csv.\n",
    "\n",
    "cs_1 = pd.read_csv('../data/Caissabase1.csv')\n",
    "cs_2 = pd.read_csv('../data/Caissabase2.csv')\n",
    "cs_3 = pd.read_csv('../data/Caissabase3.csv')\n",
    "cs_4 = pd.read_csv('../data/Caissabase4.csv')\n",
    "cs_5 = pd.read_csv('../data/Caissabase5.csv')\n",
    "cs_6 = pd.read_csv('../data/Caissabase6.csv')\n",
    "cs_7 = pd.read_csv('../data/Caissabase7.csv')\n",
    "cs_8 = pd.read_csv('../data/Caissabase8.csv')\n",
    "cs_9 = pd.read_csv('../data/Caissabase9.csv')\n",
    "cs_10 = pd.read_csv('../data/Caissabase10.csv')\n",
    "\n",
    "caissabase = pd.concat([cs_1,cs_2,cs_3,cs_4,cs_5,cs_6,cs_7,cs_8,cs_9,cs_10])"
   ]
  },
  {
   "cell_type": "code",
   "execution_count": 3,
   "id": "b77b8915",
   "metadata": {},
   "outputs": [],
   "source": [
    "# Cleaning up initial dataframe.\n",
    "\n",
    "caissabase = caissabase.drop(caissabase.columns[0], axis = 1)\n",
    "caissabase.columns = ['games']"
   ]
  },
  {
   "cell_type": "code",
   "execution_count": 4,
   "id": "c8b2c05f",
   "metadata": {},
   "outputs": [],
   "source": [
    "caissabase['event'] = caissabase['games'].str.extract('(\\[Event[^\\]]*\\])')\n",
    "caissabase['event'] = caissabase['event'].str.extract('\"([^#]*)\"')"
   ]
  },
  {
   "cell_type": "code",
   "execution_count": 5,
   "id": "8054a78a",
   "metadata": {},
   "outputs": [],
   "source": [
    "caissabase['white_elo'] = caissabase['games'].str.extract('(\\[WhiteElo[^\\]]*\\])')\n",
    "caissabase['white_elo'] = caissabase['white_elo'].str.extract('\"([^#]*)\"')"
   ]
  },
  {
   "cell_type": "code",
   "execution_count": 6,
   "id": "24a32110",
   "metadata": {},
   "outputs": [],
   "source": [
    "caissabase['black_elo'] = caissabase['games'].str.extract('(\\[BlackElo[^\\]]*\\])')\n",
    "caissabase['black_elo'] = caissabase['black_elo'].str.extract('\"([^#]*)\"')"
   ]
  },
  {
   "cell_type": "code",
   "execution_count": 7,
   "id": "6b6deb34",
   "metadata": {},
   "outputs": [],
   "source": [
    "caissabase = caissabase.dropna(axis = 0, how = 'any', subset = ['white_elo','black_elo'])"
   ]
  },
  {
   "cell_type": "code",
   "execution_count": 8,
   "id": "48b94343",
   "metadata": {},
   "outputs": [],
   "source": [
    "caissabase = caissabase.astype({'white_elo':'int', 'black_elo':'int'})"
   ]
  },
  {
   "cell_type": "code",
   "execution_count": 9,
   "id": "bc9ec491",
   "metadata": {},
   "outputs": [],
   "source": [
    "caissabase = caissabase[caissabase['white_elo'].between(2000, 2890, 'both')]\n",
    "caissabase = caissabase[caissabase['black_elo'].between(2000, 2890, 'both')]"
   ]
  },
  {
   "cell_type": "code",
   "execution_count": 10,
   "id": "06330bc5",
   "metadata": {},
   "outputs": [],
   "source": [
    "caissabase = caissabase[~caissabase['event'].str.contains('rapid| rpd |blitz|bltz|bullet|exhibition| exh |titled arena|titled tuesday|titled tues|speed|simul|960|random', case = False, na = False)]"
   ]
  },
  {
   "cell_type": "code",
   "execution_count": 11,
   "id": "9a4568cc",
   "metadata": {},
   "outputs": [],
   "source": [
    "caissabase['result'] = caissabase['games'].str.extract('(\\[Result[^\\]]*\\])')\n",
    "caissabase['result'] = caissabase['result'].str.extract('\"([^#]*)\"')"
   ]
  },
  {
   "cell_type": "code",
   "execution_count": 12,
   "id": "461fe571",
   "metadata": {},
   "outputs": [],
   "source": [
    "caissabase['site'] = caissabase['games'].str.extract('(\\[Site[^\\]]*\\])')\n",
    "caissabase['site'] = caissabase['site'].str.extract('\"([^#]*)\"')"
   ]
  },
  {
   "cell_type": "code",
   "execution_count": 13,
   "id": "a0b27b9e",
   "metadata": {},
   "outputs": [],
   "source": [
    "caissabase['date'] = caissabase['games'].str.extract('(\\[Date[^\\]]*\\])')\n",
    "caissabase['date'] = caissabase['date'].str.extract('\"([^#]*)\"')"
   ]
  },
  {
   "cell_type": "code",
   "execution_count": 14,
   "id": "40c4f504",
   "metadata": {},
   "outputs": [],
   "source": [
    "caissabase['white'] = caissabase['games'].str.extract('(\\[White[^\\]]*\\])')\n",
    "caissabase['white'] = caissabase['white'].str.extract('\"([^#]*)\"')"
   ]
  },
  {
   "cell_type": "code",
   "execution_count": 15,
   "id": "ec334296",
   "metadata": {},
   "outputs": [],
   "source": [
    "caissabase['white_fide_id'] = caissabase['games'].str.extract('(\\[WhiteFideId[^\\]]*\\])')\n",
    "caissabase['white_fide_id'] = caissabase['white_fide_id'].str.extract('\"([^#]*)\"')"
   ]
  },
  {
   "cell_type": "code",
   "execution_count": 16,
   "id": "f7941781",
   "metadata": {},
   "outputs": [],
   "source": [
    "caissabase['white_title'] = caissabase['games'].str.extract('(\\[WhiteTitle[^\\]]*\\])')\n",
    "caissabase['white_title'] = caissabase['white_title'].str.extract('\"([^#]*)\"')"
   ]
  },
  {
   "cell_type": "code",
   "execution_count": 17,
   "id": "599d6f5f",
   "metadata": {},
   "outputs": [],
   "source": [
    "caissabase['black'] = caissabase['games'].str.extract('(\\[Black[^\\]]*\\])')\n",
    "caissabase['black'] = caissabase['black'].str.extract('\"([^#]*)\"')"
   ]
  },
  {
   "cell_type": "code",
   "execution_count": 18,
   "id": "753c83ac",
   "metadata": {},
   "outputs": [],
   "source": [
    "caissabase['black_fide_id'] = caissabase['games'].str.extract('(\\[BlackFideId[^\\]]*\\])')\n",
    "caissabase['black_fide_id'] = caissabase['black_fide_id'].str.extract('\"([^#]*)\"')"
   ]
  },
  {
   "cell_type": "code",
   "execution_count": 19,
   "id": "24fbac5f",
   "metadata": {},
   "outputs": [],
   "source": [
    "caissabase['black_title'] = caissabase['games'].str.extract('(\\[BlackTitle[^\\]]*\\])')\n",
    "caissabase['black_title'] = caissabase['black_title'].str.extract('\"([^#]*)\"')"
   ]
  },
  {
   "cell_type": "code",
   "execution_count": 20,
   "id": "352f252f",
   "metadata": {},
   "outputs": [],
   "source": [
    "caissabase['eco'] = caissabase['games'].str.extract('(\\[ECO[^\\]]*\\])')\n",
    "caissabase['eco'] = caissabase['eco'].str.extract('\"([^#]*)\"')"
   ]
  },
  {
   "cell_type": "code",
   "execution_count": 21,
   "id": "cdc22c4e",
   "metadata": {},
   "outputs": [],
   "source": [
    "caissabase['event_date'] = caissabase['games'].str.extract('(\\[EventDate[^\\]]*\\])')\n",
    "caissabase['event_date'] = caissabase['event_date'].str.extract('\"([^#]*)\"')"
   ]
  },
  {
   "cell_type": "code",
   "execution_count": 22,
   "id": "caadfbc8",
   "metadata": {},
   "outputs": [],
   "source": [
    "caissabase['opening'] = caissabase['games'].str.extract('(\\[Opening[^\\]]*\\])')\n",
    "caissabase['opening'] = caissabase['opening'].str.extract('\"([^#]*)\"')"
   ]
  },
  {
   "cell_type": "code",
   "execution_count": 23,
   "id": "482dc576",
   "metadata": {},
   "outputs": [],
   "source": [
    "caissabase['variation'] = caissabase['games'].str.extract('(\\[Variation[^\\]]*\\])')\n",
    "caissabase['variation'] = caissabase['variation'].str.extract('\"([^#]*)\"')"
   ]
  },
  {
   "cell_type": "code",
   "execution_count": 24,
   "id": "c3d8235d",
   "metadata": {},
   "outputs": [],
   "source": [
    "caissabase['moves'] = caissabase['games'].str.extract('(\\\\n\\\\n[^%]*)')"
   ]
  },
  {
   "cell_type": "code",
   "execution_count": 25,
   "id": "06d32c42",
   "metadata": {},
   "outputs": [],
   "source": [
    "caissabase = caissabase.drop(['games'], axis = 1)"
   ]
  },
  {
   "cell_type": "code",
   "execution_count": 26,
   "id": "4b51a5ae",
   "metadata": {},
   "outputs": [],
   "source": [
    "caissabase['moves'] = caissabase['moves'].str.replace(r'1-0', r'')\n",
    "caissabase['moves'] = caissabase['moves'].str.replace(r'0-1', r'')\n",
    "caissabase['moves'] = caissabase['moves'].str.replace(r'1/2-1/2', r'')\n",
    "caissabase['@'] = '@'\n",
    "caissabase['moves'] = caissabase['moves'] + caissabase['@']"
   ]
  },
  {
   "cell_type": "code",
   "execution_count": 27,
   "id": "dee2a44f",
   "metadata": {},
   "outputs": [],
   "source": [
    "caissabase = caissabase.drop(['@'], axis = 1)"
   ]
  },
  {
   "cell_type": "code",
   "execution_count": 28,
   "id": "4b1c9ef7",
   "metadata": {},
   "outputs": [
    {
     "name": "stderr",
     "output_type": "stream",
     "text": [
      "<ipython-input-28-336d59ff31a9>:6: FutureWarning: The default value of regex will change from True to False in a future version.\n",
      "  caissabase[x] = caissabase[x].str.replace(x + '\\.', '')\n"
     ]
    }
   ],
   "source": [
    "for x in range (1,21):\n",
    "    y = ' ' + str(x + 1)\n",
    "    x = str(x)\n",
    "    caissabase[x] = caissabase['moves'].str.extract('('+x+'\\.[^@.]*)')\n",
    "    caissabase[x] = caissabase[x].str.replace(y, '')\n",
    "    caissabase[x] = caissabase[x].str.replace(x + '\\.', '')"
   ]
  },
  {
   "cell_type": "code",
   "execution_count": 29,
   "id": "138ac7bf",
   "metadata": {},
   "outputs": [],
   "source": [
    "caissabase = caissabase.drop(['moves'], axis = 1)"
   ]
  },
  {
   "cell_type": "code",
   "execution_count": 30,
   "id": "6c3a5f76",
   "metadata": {},
   "outputs": [],
   "source": [
    "for x in range (1,21):\n",
    "    x = str(x)\n",
    "    w = x + 'w'\n",
    "    b = x + 'b'\n",
    "    caissabase[x] = caissabase[x].str.strip()\n",
    "    caissabase[[w, b]] = caissabase[x].str.split(' ', n = 1, expand = True)"
   ]
  },
  {
   "cell_type": "code",
   "execution_count": 31,
   "id": "9ef44c73",
   "metadata": {},
   "outputs": [],
   "source": [
    "caissabase = caissabase.drop(['1','2','3','4','5','6','7','8','9','10','11','12','13','14','15','16','17','18','19','20'], axis = 1)"
   ]
  },
  {
   "cell_type": "code",
   "execution_count": 32,
   "id": "2f4cbe75",
   "metadata": {},
   "outputs": [],
   "source": [
    "caissabase['date'] = pd.to_datetime(caissabase['date'], errors = 'coerce')"
   ]
  },
  {
   "cell_type": "code",
   "execution_count": 33,
   "id": "f812d889",
   "metadata": {},
   "outputs": [],
   "source": [
    "caissabase = caissabase.loc[caissabase['date']>='2000-01-01']"
   ]
  },
  {
   "cell_type": "code",
   "execution_count": 34,
   "id": "ba017931",
   "metadata": {},
   "outputs": [],
   "source": [
    "caissabase = caissabase.dropna(axis = 0, how = 'any', subset = ['1w','1b','2w','2b','3w','3b','4w','4b'])"
   ]
  },
  {
   "cell_type": "code",
   "execution_count": 35,
   "id": "7061b620",
   "metadata": {},
   "outputs": [],
   "source": [
    "caissabase = caissabase[caissabase['1w'].isin(['Bh3','Nd6+','f5','Nf5']) == False]"
   ]
  },
  {
   "cell_type": "code",
   "execution_count": 36,
   "id": "29aed99d",
   "metadata": {},
   "outputs": [],
   "source": [
    "caissabase = caissabase[caissabase['1b'].isin(['{ Note this is not a standard game of chess as castling was not\\nallowed } 1','f62']) == False]"
   ]
  },
  {
   "cell_type": "code",
   "execution_count": 37,
   "id": "63216191",
   "metadata": {},
   "outputs": [],
   "source": [
    "caissabase = caissabase.loc[caissabase['result'] != '*']"
   ]
  },
  {
   "cell_type": "code",
   "execution_count": 38,
   "id": "7793081d",
   "metadata": {},
   "outputs": [],
   "source": [
    "caissabase = caissabase.reset_index(drop =True)"
   ]
  },
  {
   "cell_type": "code",
   "execution_count": 39,
   "id": "0753ac10",
   "metadata": {},
   "outputs": [],
   "source": [
    "caissabase.to_csv('../data/caissabase_df.csv')"
   ]
  }
 ],
 "metadata": {
  "kernelspec": {
   "display_name": "Python 3",
   "language": "python",
   "name": "python3"
  },
  "language_info": {
   "codemirror_mode": {
    "name": "ipython",
    "version": 3
   },
   "file_extension": ".py",
   "mimetype": "text/x-python",
   "name": "python",
   "nbconvert_exporter": "python",
   "pygments_lexer": "ipython3",
   "version": "3.8.8"
  }
 },
 "nbformat": 4,
 "nbformat_minor": 5
}
