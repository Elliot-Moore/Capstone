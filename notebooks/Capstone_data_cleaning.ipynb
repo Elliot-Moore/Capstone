{
 "cells": [
  {
   "cell_type": "code",
   "execution_count": 1,
   "id": "1e26c4ee",
   "metadata": {},
   "outputs": [],
   "source": [
    "import pandas as pd\n",
    "import re"
   ]
  },
  {
   "cell_type": "code",
   "execution_count": 2,
   "id": "5dee1175",
   "metadata": {},
   "outputs": [],
   "source": [
    "pd.set_option('display.max_colwidth', None)\n",
    "pd.set_option('display.max_columns', None)"
   ]
  },
  {
   "cell_type": "code",
   "execution_count": 3,
   "id": "5508e4a7",
   "metadata": {
    "scrolled": false
   },
   "outputs": [],
   "source": [
    "cs_1 = pd.read_csv('../data/Caissabase1.csv')\n",
    "cs_2 = pd.read_csv('../data/Caissabase2.csv')\n",
    "cs_3 = pd.read_csv('../data/Caissabase3.csv')\n",
    "cs_4 = pd.read_csv('../data/Caissabase4.csv')\n",
    "cs_5 = pd.read_csv('../data/Caissabase5.csv')\n",
    "cs_6 = pd.read_csv('../data/Caissabase6.csv')\n",
    "cs_7 = pd.read_csv('../data/Caissabase7.csv')\n",
    "cs_8 = pd.read_csv('../data/Caissabase8.csv')\n",
    "cs_9 = pd.read_csv('../data/Caissabase9.csv')\n",
    "cs_10 = pd.read_csv('../data/Caissabase10.csv')"
   ]
  },
  {
   "cell_type": "code",
   "execution_count": 4,
   "id": "b1151161",
   "metadata": {},
   "outputs": [],
   "source": [
    "caissabase = pd.concat([cs_1,cs_2,cs_3,cs_4,cs_5,cs_6,cs_7,cs_8,cs_9,cs_10])"
   ]
  },
  {
   "cell_type": "code",
   "execution_count": 5,
   "id": "f254c3f9",
   "metadata": {},
   "outputs": [],
   "source": [
    "caissabase.columns = ['col1','games']"
   ]
  },
  {
   "cell_type": "code",
   "execution_count": 6,
   "id": "b77b8915",
   "metadata": {},
   "outputs": [],
   "source": [
    "caissabase = caissabase.drop(['col1'], axis = 1)"
   ]
  },
  {
   "cell_type": "code",
   "execution_count": 7,
   "id": "c8b2c05f",
   "metadata": {},
   "outputs": [],
   "source": [
    "caissabase['event'] = caissabase['games'].str.extract('(\\[Event[^\\]]*\\])')"
   ]
  },
  {
   "cell_type": "code",
   "execution_count": 8,
   "id": "461fe571",
   "metadata": {},
   "outputs": [],
   "source": [
    "caissabase['site'] = caissabase['games'].str.extract('(\\[Site[^\\]]*\\])')"
   ]
  },
  {
   "cell_type": "code",
   "execution_count": 9,
   "id": "a0b27b9e",
   "metadata": {},
   "outputs": [],
   "source": [
    "caissabase['date'] = caissabase['games'].str.extract('(\\[Date[^\\]]*\\])')"
   ]
  },
  {
   "cell_type": "code",
   "execution_count": 10,
   "id": "b7f4cfce",
   "metadata": {},
   "outputs": [],
   "source": [
    "caissabase['round'] = caissabase['games'].str.extract('(\\[Round[^\\]]*\\])')"
   ]
  },
  {
   "cell_type": "code",
   "execution_count": 11,
   "id": "027a99f0",
   "metadata": {},
   "outputs": [],
   "source": [
    "caissabase['white'] = caissabase['games'].str.extract('(\\[White[^\\]]*\\])')"
   ]
  },
  {
   "cell_type": "code",
   "execution_count": 12,
   "id": "599d6f5f",
   "metadata": {},
   "outputs": [],
   "source": [
    "caissabase['black'] = caissabase['games'].str.extract('(\\[Black[^\\]]*\\])')"
   ]
  },
  {
   "cell_type": "code",
   "execution_count": 13,
   "id": "9a4568cc",
   "metadata": {},
   "outputs": [],
   "source": [
    "caissabase['result'] = caissabase['games'].str.extract('(\\[Result[^\\]]*\\])')"
   ]
  },
  {
   "cell_type": "code",
   "execution_count": 14,
   "id": "423a2c6e",
   "metadata": {},
   "outputs": [],
   "source": [
    "caissabase['black_elo'] = caissabase['games'].str.extract('(\\[BlackElo[^\\]]*\\])')"
   ]
  },
  {
   "cell_type": "code",
   "execution_count": 15,
   "id": "753c83ac",
   "metadata": {},
   "outputs": [],
   "source": [
    "caissabase['black_fide_id'] = caissabase['games'].str.extract('(\\[BlackFideId[^\\]]*\\])')"
   ]
  },
  {
   "cell_type": "code",
   "execution_count": 16,
   "id": "24fbac5f",
   "metadata": {},
   "outputs": [],
   "source": [
    "caissabase['black_title'] = caissabase['games'].str.extract('(\\[BlackTitle[^\\]]*\\])')"
   ]
  },
  {
   "cell_type": "code",
   "execution_count": 17,
   "id": "352f252f",
   "metadata": {},
   "outputs": [],
   "source": [
    "caissabase['eco'] = caissabase['games'].str.extract('(\\[ECO[^\\]]*\\])')"
   ]
  },
  {
   "cell_type": "code",
   "execution_count": 18,
   "id": "cdc22c4e",
   "metadata": {},
   "outputs": [],
   "source": [
    "caissabase['event_date'] = caissabase['games'].str.extract('(\\[EventDate[^\\]]*\\])')"
   ]
  },
  {
   "cell_type": "code",
   "execution_count": 19,
   "id": "caadfbc8",
   "metadata": {},
   "outputs": [],
   "source": [
    "caissabase['opening'] = caissabase['games'].str.extract('(\\[Opening[^\\]]*\\])')"
   ]
  },
  {
   "cell_type": "code",
   "execution_count": 20,
   "id": "482dc576",
   "metadata": {},
   "outputs": [],
   "source": [
    "caissabase['variation'] = caissabase['games'].str.extract('(\\[Variation[^\\]]*\\])')"
   ]
  },
  {
   "cell_type": "code",
   "execution_count": 21,
   "id": "45cc5cd6",
   "metadata": {},
   "outputs": [],
   "source": [
    "caissabase['white_elo'] = caissabase['games'].str.extract('(\\[WhiteElo[^\\]]*\\])')"
   ]
  },
  {
   "cell_type": "code",
   "execution_count": 22,
   "id": "ec334296",
   "metadata": {},
   "outputs": [],
   "source": [
    "caissabase['white_fide_id'] = caissabase['games'].str.extract('(\\[WhiteFideId[^\\]]*\\])')"
   ]
  },
  {
   "cell_type": "code",
   "execution_count": 23,
   "id": "f7941781",
   "metadata": {},
   "outputs": [],
   "source": [
    "caissabase['white_title'] = caissabase['games'].str.extract('(\\[WhiteTitle[^\\]]*\\])')"
   ]
  },
  {
   "cell_type": "code",
   "execution_count": 24,
   "id": "c3d8235d",
   "metadata": {},
   "outputs": [],
   "source": [
    "caissabase['moves'] = caissabase['games'].str.extract('(\\\\n\\\\n[^%]*)')"
   ]
  },
  {
   "cell_type": "code",
   "execution_count": 25,
   "id": "74e9ff45",
   "metadata": {},
   "outputs": [],
   "source": [
    "caissabase = caissabase.rename(columns={'games':'full_pgn'})"
   ]
  },
  {
   "cell_type": "code",
   "execution_count": 26,
   "id": "39abee45",
   "metadata": {},
   "outputs": [],
   "source": [
    "caissabase['event'] = caissabase['event'].str.extract('\"([^#]*)\"')"
   ]
  },
  {
   "cell_type": "code",
   "execution_count": 27,
   "id": "47e84249",
   "metadata": {},
   "outputs": [],
   "source": [
    "caissabase['site'] = caissabase['site'].str.extract('\"([^#]*)\"')"
   ]
  },
  {
   "cell_type": "code",
   "execution_count": 28,
   "id": "2701f22d",
   "metadata": {},
   "outputs": [],
   "source": [
    "caissabase['date'] = caissabase['date'].str.extract('\"([^#]*)\"')"
   ]
  },
  {
   "cell_type": "code",
   "execution_count": 29,
   "id": "08ba34e1",
   "metadata": {},
   "outputs": [],
   "source": [
    "caissabase['round'] = caissabase['round'].str.extract('\"([^#]*)\"')"
   ]
  },
  {
   "cell_type": "code",
   "execution_count": 30,
   "id": "bb9400ee",
   "metadata": {},
   "outputs": [],
   "source": [
    "caissabase['white'] = caissabase['white'].str.extract('\"([^#]*)\"')"
   ]
  },
  {
   "cell_type": "code",
   "execution_count": 31,
   "id": "211eb2d9",
   "metadata": {},
   "outputs": [],
   "source": [
    "caissabase['black'] = caissabase['black'].str.extract('\"([^#]*)\"')"
   ]
  },
  {
   "cell_type": "code",
   "execution_count": 32,
   "id": "58af91fd",
   "metadata": {},
   "outputs": [],
   "source": [
    "caissabase['result'] = caissabase['result'].str.extract('\"([^#]*)\"')"
   ]
  },
  {
   "cell_type": "code",
   "execution_count": 33,
   "id": "dcd53e41",
   "metadata": {},
   "outputs": [],
   "source": [
    "caissabase['black_elo'] = caissabase['black_elo'].str.extract('\"([^#]*)\"')"
   ]
  },
  {
   "cell_type": "code",
   "execution_count": 34,
   "id": "a8f806cc",
   "metadata": {},
   "outputs": [],
   "source": [
    "caissabase['white_elo'] = caissabase['white_elo'].str.extract('\"([^#]*)\"')"
   ]
  },
  {
   "cell_type": "code",
   "execution_count": 35,
   "id": "f64a34c3",
   "metadata": {},
   "outputs": [],
   "source": [
    "caissabase['black_fide_id'] = caissabase['black_fide_id'].str.extract('\"([^#]*)\"')"
   ]
  },
  {
   "cell_type": "code",
   "execution_count": 36,
   "id": "07b0429c",
   "metadata": {},
   "outputs": [],
   "source": [
    "caissabase['white_fide_id'] = caissabase['white_fide_id'].str.extract('\"([^#]*)\"')"
   ]
  },
  {
   "cell_type": "code",
   "execution_count": 37,
   "id": "e487d983",
   "metadata": {},
   "outputs": [],
   "source": [
    "caissabase['black_title'] = caissabase['black_title'].str.extract('\"([^#]*)\"')"
   ]
  },
  {
   "cell_type": "code",
   "execution_count": 38,
   "id": "f507a7f4",
   "metadata": {},
   "outputs": [],
   "source": [
    "caissabase['white_title'] = caissabase['white_title'].str.extract('\"([^#]*)\"')"
   ]
  },
  {
   "cell_type": "code",
   "execution_count": 39,
   "id": "e9068ac9",
   "metadata": {},
   "outputs": [],
   "source": [
    "caissabase['eco'] = caissabase['eco'].str.extract('\"([^#]*)\"')"
   ]
  },
  {
   "cell_type": "code",
   "execution_count": 40,
   "id": "bef13ba6",
   "metadata": {},
   "outputs": [],
   "source": [
    "caissabase['event_date'] = caissabase['event_date'].str.extract('\"([^#]*)\"')"
   ]
  },
  {
   "cell_type": "code",
   "execution_count": 41,
   "id": "1f7fd717",
   "metadata": {},
   "outputs": [],
   "source": [
    "caissabase['opening'] = caissabase['opening'].str.extract('\"([^#]*)\"')"
   ]
  },
  {
   "cell_type": "code",
   "execution_count": 42,
   "id": "9488f373",
   "metadata": {},
   "outputs": [],
   "source": [
    "caissabase['variation'] = caissabase['variation'].str.extract('\"([^#]*)\"')"
   ]
  },
  {
   "cell_type": "code",
   "execution_count": 43,
   "id": "4b51a5ae",
   "metadata": {},
   "outputs": [],
   "source": [
    "caissabase['moves'] = caissabase['moves'].str.replace(r'1-0', r'')\n",
    "caissabase['moves'] = caissabase['moves'].str.replace(r'0-1', r'')\n",
    "caissabase['moves'] = caissabase['moves'].str.replace(r'1/2-1/2', r'')"
   ]
  },
  {
   "cell_type": "code",
   "execution_count": 44,
   "id": "78727a78",
   "metadata": {},
   "outputs": [],
   "source": [
    "caissabase['@'] = '@'"
   ]
  },
  {
   "cell_type": "code",
   "execution_count": 45,
   "id": "8aa9a2f2",
   "metadata": {},
   "outputs": [],
   "source": [
    "caissabase['moves'] = caissabase['moves'] + caissabase['@']"
   ]
  },
  {
   "cell_type": "code",
   "execution_count": 46,
   "id": "4b1c9ef7",
   "metadata": {},
   "outputs": [
    {
     "name": "stderr",
     "output_type": "stream",
     "text": [
      "<ipython-input-46-336d59ff31a9>:6: FutureWarning: The default value of regex will change from True to False in a future version.\n",
      "  caissabase[x] = caissabase[x].str.replace(x + '\\.', '')\n"
     ]
    }
   ],
   "source": [
    "for x in range (1,21):\n",
    "    y = ' ' + str(x + 1)\n",
    "    x = str(x)\n",
    "    caissabase[x] = caissabase['moves'].str.extract('('+x+'\\.[^@.]*)')\n",
    "    caissabase[x] = caissabase[x].str.replace(y, '')\n",
    "    caissabase[x] = caissabase[x].str.replace(x + '\\.', '')"
   ]
  },
  {
   "cell_type": "code",
   "execution_count": 53,
   "id": "b2b55c59",
   "metadata": {},
   "outputs": [],
   "source": [
    "caissabase = caissabase.drop(['full_pgn', 'moves'], axis = 1)"
   ]
  },
  {
   "cell_type": "code",
   "execution_count": 56,
   "id": "6c3a5f76",
   "metadata": {},
   "outputs": [],
   "source": [
    "for x in range (1,21):\n",
    "    x = str(x)\n",
    "    w = x + 'w'\n",
    "    b = x + 'b'\n",
    "    caissabase[x] = caissabase[x].str.strip()\n",
    "    caissabase[[w, b]] = caissabase[x].str.split(' ', n = 1, expand = True)"
   ]
  },
  {
   "cell_type": "code",
   "execution_count": 61,
   "id": "9ef44c73",
   "metadata": {},
   "outputs": [],
   "source": [
    "caissabase = caissabase.drop(['@','1','2','3','4','5','6','7','8','9','10','11','12','13','14','15','16','17','18','19','20'], axis = 1)"
   ]
  },
  {
   "cell_type": "code",
   "execution_count": 62,
   "id": "0753ac10",
   "metadata": {},
   "outputs": [],
   "source": [
    "caissabase.to_csv('../data/caissabase_df.csv')"
   ]
  },
  {
   "cell_type": "code",
   "execution_count": null,
   "id": "b09ba9f3",
   "metadata": {},
   "outputs": [],
   "source": []
  },
  {
   "cell_type": "code",
   "execution_count": null,
   "id": "b03f3709",
   "metadata": {},
   "outputs": [],
   "source": []
  },
  {
   "cell_type": "code",
   "execution_count": 47,
   "id": "5b159162",
   "metadata": {},
   "outputs": [],
   "source": []
  },
  {
   "cell_type": "code",
   "execution_count": null,
   "id": "7c836793",
   "metadata": {},
   "outputs": [],
   "source": []
  },
  {
   "cell_type": "code",
   "execution_count": null,
   "id": "614fea36",
   "metadata": {},
   "outputs": [],
   "source": []
  },
  {
   "cell_type": "code",
   "execution_count": null,
   "id": "bcc0383f",
   "metadata": {},
   "outputs": [],
   "source": []
  },
  {
   "cell_type": "code",
   "execution_count": null,
   "id": "3c7dad6f",
   "metadata": {},
   "outputs": [],
   "source": []
  },
  {
   "cell_type": "code",
   "execution_count": null,
   "id": "ac8152d4",
   "metadata": {},
   "outputs": [],
   "source": []
  },
  {
   "cell_type": "code",
   "execution_count": 49,
   "id": "ca106585",
   "metadata": {},
   "outputs": [],
   "source": [
    "#with pd.option_context('display.max_rows', None, 'display.max_columns', None):\n",
    "#    print(caissabase['0'].value_counts(dropna = False))"
   ]
  },
  {
   "cell_type": "code",
   "execution_count": null,
   "id": "b49298d5",
   "metadata": {},
   "outputs": [],
   "source": []
  },
  {
   "cell_type": "code",
   "execution_count": null,
   "id": "682b8191",
   "metadata": {},
   "outputs": [],
   "source": []
  },
  {
   "cell_type": "code",
   "execution_count": null,
   "id": "ae168551",
   "metadata": {},
   "outputs": [],
   "source": []
  },
  {
   "cell_type": "code",
   "execution_count": null,
   "id": "eaa5742c",
   "metadata": {},
   "outputs": [],
   "source": []
  },
  {
   "cell_type": "code",
   "execution_count": null,
   "id": "59f203ca",
   "metadata": {},
   "outputs": [],
   "source": []
  },
  {
   "cell_type": "code",
   "execution_count": null,
   "id": "c97efadd",
   "metadata": {},
   "outputs": [],
   "source": []
  }
 ],
 "metadata": {
  "kernelspec": {
   "display_name": "Python 3",
   "language": "python",
   "name": "python3"
  },
  "language_info": {
   "codemirror_mode": {
    "name": "ipython",
    "version": 3
   },
   "file_extension": ".py",
   "mimetype": "text/x-python",
   "name": "python",
   "nbconvert_exporter": "python",
   "pygments_lexer": "ipython3",
   "version": "3.8.8"
  }
 },
 "nbformat": 4,
 "nbformat_minor": 5
}
