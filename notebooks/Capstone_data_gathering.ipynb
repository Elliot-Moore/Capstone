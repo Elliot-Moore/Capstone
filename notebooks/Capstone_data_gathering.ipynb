{
 "cells": [
  {
   "cell_type": "code",
   "execution_count": 1,
   "id": "91e2df64",
   "metadata": {},
   "outputs": [],
   "source": [
    "import pandas as pd\n",
    "import chess.pgn\n",
    "import time\n",
    "from datetime import timedelta"
   ]
  },
  {
   "cell_type": "code",
   "execution_count": 2,
   "id": "7b41d232",
   "metadata": {},
   "outputs": [],
   "source": [
    "pgn = open('../data/Caissabase_2021_pgns.pgn')"
   ]
  },
  {
   "cell_type": "code",
   "execution_count": 3,
   "id": "c4808e54",
   "metadata": {},
   "outputs": [
    {
     "name": "stdout",
     "output_type": "stream",
     "text": [
      "1:38:41.390000\n"
     ]
    }
   ],
   "source": [
    "game_list = []\n",
    "start_time = time.monotonic()\n",
    "\n",
    "for x in range (456900):\n",
    "    game = chess.pgn.read_game(pgn)\n",
    "    game_list.append(game)\n",
    "\n",
    "game_list = list(map(str, game_list))\n",
    "game_df = pd.DataFrame(game_list, columns = ['game'])\n",
    "game_df.to_csv('../data/Caissabase1.csv')\n",
    "\n",
    "end_time = time.monotonic()\n",
    "print(timedelta(seconds=end_time - start_time))"
   ]
  },
  {
   "cell_type": "code",
   "execution_count": 4,
   "id": "b72f5875",
   "metadata": {},
   "outputs": [
    {
     "name": "stderr",
     "output_type": "stream",
     "text": [
      "error during pgn parsing\n",
      "Traceback (most recent call last):\n",
      "  File \"C:\\Users\\apcsm\\Anaconda3\\lib\\site-packages\\chess\\__init__.py\", line 2954, in parse_san\n",
      "    return next(move for move in self.generate_castling_moves() if self.is_kingside_castling(move))\n",
      "StopIteration\n",
      "\n",
      "During handling of the above exception, another exception occurred:\n",
      "\n",
      "Traceback (most recent call last):\n",
      "  File \"C:\\Users\\apcsm\\Anaconda3\\lib\\site-packages\\chess\\pgn.py\", line 1632, in read_game\n",
      "    move = visitor.parse_san(board_stack[-1], token)\n",
      "  File \"C:\\Users\\apcsm\\Anaconda3\\lib\\site-packages\\chess\\pgn.py\", line 1010, in parse_san\n",
      "    return board.parse_san(san)\n",
      "  File \"C:\\Users\\apcsm\\Anaconda3\\lib\\site-packages\\chess\\__init__.py\", line 2958, in parse_san\n",
      "    raise ValueError(f\"illegal san: {san!r} in {self.fen()}\")\n",
      "ValueError: illegal san: 'O-O' in r2k3r/2pPp3/p4n2/3b2B1/1p5P/2qP4/3RQ1P1/4K2R w - - 2 31\n",
      "error during pgn parsing\n",
      "Traceback (most recent call last):\n",
      "  File \"C:\\Users\\apcsm\\Anaconda3\\lib\\site-packages\\chess\\__init__.py\", line 2954, in parse_san\n",
      "    return next(move for move in self.generate_castling_moves() if self.is_kingside_castling(move))\n",
      "StopIteration\n",
      "\n",
      "During handling of the above exception, another exception occurred:\n",
      "\n",
      "Traceback (most recent call last):\n",
      "  File \"C:\\Users\\apcsm\\Anaconda3\\lib\\site-packages\\chess\\pgn.py\", line 1632, in read_game\n",
      "    move = visitor.parse_san(board_stack[-1], token)\n",
      "  File \"C:\\Users\\apcsm\\Anaconda3\\lib\\site-packages\\chess\\pgn.py\", line 1010, in parse_san\n",
      "    return board.parse_san(san)\n",
      "  File \"C:\\Users\\apcsm\\Anaconda3\\lib\\site-packages\\chess\\__init__.py\", line 2958, in parse_san\n",
      "    raise ValueError(f\"illegal san: {san!r} in {self.fen()}\")\n",
      "ValueError: illegal san: 'O-O' in 4k2r/3n1p2/4p3/1N1PPp2/5P1p/7P/1R3BP1/2rbN2K b - - 2 34\n",
      "error during pgn parsing\n",
      "Traceback (most recent call last):\n",
      "  File \"C:\\Users\\apcsm\\Anaconda3\\lib\\site-packages\\chess\\__init__.py\", line 2954, in parse_san\n",
      "    return next(move for move in self.generate_castling_moves() if self.is_kingside_castling(move))\n",
      "StopIteration\n",
      "\n",
      "During handling of the above exception, another exception occurred:\n",
      "\n",
      "Traceback (most recent call last):\n",
      "  File \"C:\\Users\\apcsm\\Anaconda3\\lib\\site-packages\\chess\\pgn.py\", line 1632, in read_game\n",
      "    move = visitor.parse_san(board_stack[-1], token)\n",
      "  File \"C:\\Users\\apcsm\\Anaconda3\\lib\\site-packages\\chess\\pgn.py\", line 1010, in parse_san\n",
      "    return board.parse_san(san)\n",
      "  File \"C:\\Users\\apcsm\\Anaconda3\\lib\\site-packages\\chess\\__init__.py\", line 2958, in parse_san\n",
      "    raise ValueError(f\"illegal san: {san!r} in {self.fen()}\")\n",
      "ValueError: illegal san: 'O-O' in 4r3/pp2b1k1/2pnBn2/6B1/8/8/P4PPP/1R2K2R w - - 1 28\n",
      "error during pgn parsing\n",
      "Traceback (most recent call last):\n",
      "  File \"C:\\Users\\apcsm\\Anaconda3\\lib\\site-packages\\chess\\__init__.py\", line 2956, in parse_san\n",
      "    return next(move for move in self.generate_castling_moves() if self.is_queenside_castling(move))\n",
      "StopIteration\n",
      "\n",
      "During handling of the above exception, another exception occurred:\n",
      "\n",
      "Traceback (most recent call last):\n",
      "  File \"C:\\Users\\apcsm\\Anaconda3\\lib\\site-packages\\chess\\pgn.py\", line 1632, in read_game\n",
      "    move = visitor.parse_san(board_stack[-1], token)\n",
      "  File \"C:\\Users\\apcsm\\Anaconda3\\lib\\site-packages\\chess\\pgn.py\", line 1010, in parse_san\n",
      "    return board.parse_san(san)\n",
      "  File \"C:\\Users\\apcsm\\Anaconda3\\lib\\site-packages\\chess\\__init__.py\", line 2958, in parse_san\n",
      "    raise ValueError(f\"illegal san: {san!r} in {self.fen()}\")\n",
      "ValueError: illegal san: 'O-O-O' in 3r2k1/3qppbp/p4np1/1pQ5/2b5/B1P2B2/P2P1PPP/R3K2R w K - 2 24\n",
      "error during pgn parsing\n",
      "Traceback (most recent call last):\n",
      "  File \"C:\\Users\\apcsm\\Anaconda3\\lib\\site-packages\\chess\\__init__.py\", line 2956, in parse_san\n",
      "    return next(move for move in self.generate_castling_moves() if self.is_queenside_castling(move))\n",
      "StopIteration\n",
      "\n",
      "During handling of the above exception, another exception occurred:\n",
      "\n",
      "Traceback (most recent call last):\n",
      "  File \"C:\\Users\\apcsm\\Anaconda3\\lib\\site-packages\\chess\\pgn.py\", line 1632, in read_game\n",
      "    move = visitor.parse_san(board_stack[-1], token)\n",
      "  File \"C:\\Users\\apcsm\\Anaconda3\\lib\\site-packages\\chess\\pgn.py\", line 1010, in parse_san\n",
      "    return board.parse_san(san)\n",
      "  File \"C:\\Users\\apcsm\\Anaconda3\\lib\\site-packages\\chess\\__init__.py\", line 2958, in parse_san\n",
      "    raise ValueError(f\"illegal san: {san!r} in {self.fen()}\")\n",
      "ValueError: illegal san: 'O-O-O' in r3k3/1R1b2p1/r7/3p1p1p/1B1Pn3/P1P5/2P3PP/5RK1 b - - 0 30\n"
     ]
    },
    {
     "name": "stdout",
     "output_type": "stream",
     "text": [
      "2:32:20.391000\n"
     ]
    }
   ],
   "source": [
    "game_list = []\n",
    "start_time = time.monotonic()\n",
    "\n",
    "for x in range (456900):\n",
    "    game = chess.pgn.read_game(pgn)\n",
    "    game_list.append(game)\n",
    "\n",
    "game_list = list(map(str, game_list))\n",
    "game_df = pd.DataFrame(game_list, columns = ['game'])\n",
    "game_df.to_csv('../data/Caissabase2.csv')\n",
    "\n",
    "end_time = time.monotonic()\n",
    "print(timedelta(seconds=end_time - start_time))"
   ]
  },
  {
   "cell_type": "code",
   "execution_count": 5,
   "id": "4e7f1e15",
   "metadata": {},
   "outputs": [
    {
     "name": "stdout",
     "output_type": "stream",
     "text": [
      "2:30:07.860000\n"
     ]
    }
   ],
   "source": [
    "game_list = []\n",
    "start_time = time.monotonic()\n",
    "\n",
    "for x in range (456900):\n",
    "    game = chess.pgn.read_game(pgn)\n",
    "    game_list.append(game)\n",
    "\n",
    "game_list = list(map(str, game_list))\n",
    "game_df = pd.DataFrame(game_list, columns = ['game'])\n",
    "game_df.to_csv('../data/Caissabase3.csv')\n",
    "\n",
    "end_time = time.monotonic()\n",
    "print(timedelta(seconds=end_time - start_time))"
   ]
  },
  {
   "cell_type": "code",
   "execution_count": 6,
   "id": "efb9971b",
   "metadata": {},
   "outputs": [
    {
     "name": "stdout",
     "output_type": "stream",
     "text": [
      "2:24:32.625000\n"
     ]
    }
   ],
   "source": [
    "game_list = []\n",
    "start_time = time.monotonic()\n",
    "\n",
    "for x in range (456900):\n",
    "    game = chess.pgn.read_game(pgn)\n",
    "    game_list.append(game)\n",
    "\n",
    "game_list = list(map(str, game_list))\n",
    "game_df = pd.DataFrame(game_list, columns = ['game'])\n",
    "game_df.to_csv('../data/Caissabase4.csv')\n",
    "\n",
    "end_time = time.monotonic()\n",
    "print(timedelta(seconds=end_time - start_time))"
   ]
  },
  {
   "cell_type": "code",
   "execution_count": 7,
   "id": "f8243411",
   "metadata": {},
   "outputs": [
    {
     "name": "stdout",
     "output_type": "stream",
     "text": [
      "2:10:17.266000\n"
     ]
    }
   ],
   "source": [
    "game_list = []\n",
    "start_time = time.monotonic()\n",
    "\n",
    "for x in range (456900):\n",
    "    game = chess.pgn.read_game(pgn)\n",
    "    game_list.append(game)\n",
    "\n",
    "game_list = list(map(str, game_list))\n",
    "game_df = pd.DataFrame(game_list, columns = ['game'])\n",
    "game_df.to_csv('../data/Caissabase5.csv')\n",
    "\n",
    "end_time = time.monotonic()\n",
    "print(timedelta(seconds=end_time - start_time))"
   ]
  },
  {
   "cell_type": "code",
   "execution_count": 8,
   "id": "80a2cb9f",
   "metadata": {},
   "outputs": [
    {
     "name": "stdout",
     "output_type": "stream",
     "text": [
      "1:41:04.547000\n"
     ]
    }
   ],
   "source": [
    "game_list = []\n",
    "start_time = time.monotonic()\n",
    "\n",
    "for x in range (456900):\n",
    "    game = chess.pgn.read_game(pgn)\n",
    "    game_list.append(game)\n",
    "\n",
    "game_list = list(map(str, game_list))\n",
    "game_df = pd.DataFrame(game_list, columns = ['game'])\n",
    "game_df.to_csv('../data/Caissabase6.csv')\n",
    "\n",
    "end_time = time.monotonic()\n",
    "print(timedelta(seconds=end_time - start_time))"
   ]
  },
  {
   "cell_type": "code",
   "execution_count": 9,
   "id": "faac2e30",
   "metadata": {},
   "outputs": [
    {
     "name": "stdout",
     "output_type": "stream",
     "text": [
      "1:30:29.078000\n"
     ]
    }
   ],
   "source": [
    "game_list = []\n",
    "start_time = time.monotonic()\n",
    "\n",
    "for x in range (456900):\n",
    "    game = chess.pgn.read_game(pgn)\n",
    "    game_list.append(game)\n",
    "\n",
    "game_list = list(map(str, game_list))\n",
    "game_df = pd.DataFrame(game_list, columns = ['game'])\n",
    "game_df.to_csv('../data/Caissabase7.csv')\n",
    "\n",
    "end_time = time.monotonic()\n",
    "print(timedelta(seconds=end_time - start_time))"
   ]
  },
  {
   "cell_type": "code",
   "execution_count": 10,
   "id": "29390fd5",
   "metadata": {},
   "outputs": [
    {
     "name": "stdout",
     "output_type": "stream",
     "text": [
      "1:29:30.781000\n"
     ]
    }
   ],
   "source": [
    "game_list = []\n",
    "start_time = time.monotonic()\n",
    "\n",
    "for x in range (456900):\n",
    "    game = chess.pgn.read_game(pgn)\n",
    "    game_list.append(game)\n",
    "\n",
    "game_list = list(map(str, game_list))\n",
    "game_df = pd.DataFrame(game_list, columns = ['game'])\n",
    "game_df.to_csv('../data/Caissabase8.csv')\n",
    "\n",
    "end_time = time.monotonic()\n",
    "print(timedelta(seconds=end_time - start_time))"
   ]
  },
  {
   "cell_type": "code",
   "execution_count": 11,
   "id": "60e94e6c",
   "metadata": {},
   "outputs": [
    {
     "name": "stdout",
     "output_type": "stream",
     "text": [
      "1:36:08.390000\n"
     ]
    }
   ],
   "source": [
    "game_list = []\n",
    "start_time = time.monotonic()\n",
    "\n",
    "for x in range (456900):\n",
    "    game = chess.pgn.read_game(pgn)\n",
    "    game_list.append(game)\n",
    "\n",
    "game_list = list(map(str, game_list))\n",
    "game_df = pd.DataFrame(game_list, columns = ['game'])\n",
    "game_df.to_csv('../data/Caissabase9.csv')\n",
    "\n",
    "end_time = time.monotonic()\n",
    "print(timedelta(seconds=end_time - start_time))"
   ]
  },
  {
   "cell_type": "code",
   "execution_count": 12,
   "id": "817922c8",
   "metadata": {},
   "outputs": [
    {
     "name": "stdout",
     "output_type": "stream",
     "text": [
      "1:26:24.922000\n"
     ]
    }
   ],
   "source": [
    "game_list = []\n",
    "start_time = time.monotonic()\n",
    "\n",
    "for x in range (456984):\n",
    "    game = chess.pgn.read_game(pgn)\n",
    "    game_list.append(game)\n",
    "\n",
    "game_list = list(map(str, game_list))\n",
    "game_df = pd.DataFrame(game_list, columns = ['game'])\n",
    "game_df.to_csv('../data/Caissabase10.csv')\n",
    "\n",
    "end_time = time.monotonic()\n",
    "print(timedelta(seconds=end_time - start_time))"
   ]
  },
  {
   "cell_type": "code",
   "execution_count": null,
   "id": "088534a8",
   "metadata": {},
   "outputs": [],
   "source": []
  }
 ],
 "metadata": {
  "kernelspec": {
   "display_name": "Python 3",
   "language": "python",
   "name": "python3"
  },
  "language_info": {
   "codemirror_mode": {
    "name": "ipython",
    "version": 3
   },
   "file_extension": ".py",
   "mimetype": "text/x-python",
   "name": "python",
   "nbconvert_exporter": "python",
   "pygments_lexer": "ipython3",
   "version": "3.8.8"
  }
 },
 "nbformat": 4,
 "nbformat_minor": 5
}
